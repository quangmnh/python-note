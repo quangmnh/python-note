{
  "nbformat": 4,
  "nbformat_minor": 0,
  "metadata": {
    "colab": {
      "name": "python-notes.ipynb",
      "provenance": [],
      "collapsed_sections": [],
      "authorship_tag": "ABX9TyMwe5bULvbs9ovEe2CBAp0N",
      "include_colab_link": true
    },
    "kernelspec": {
      "name": "python3",
      "display_name": "Python 3"
    },
    "language_info": {
      "name": "python"
    }
  },
  "cells": [
    {
      "cell_type": "markdown",
      "metadata": {
        "id": "view-in-github",
        "colab_type": "text"
      },
      "source": [
        "<a href=\"https://colab.research.google.com/github/quangmnh/python-note/blob/main/python_notes.ipynb\" target=\"_parent\"><img src=\"https://colab.research.google.com/assets/colab-badge.svg\" alt=\"Open In Colab\"/></a>"
      ]
    },
    {
      "cell_type": "markdown",
      "metadata": {
        "id": "DS9_2fN-Q3kY"
      },
      "source": [
        "# Can I compare 2 2D matrices row by row (unordered) using numpy? Yes"
      ]
    },
    {
      "cell_type": "code",
      "metadata": {
        "colab": {
          "base_uri": "https://localhost:8080/"
        },
        "id": "Bj9ZgpBIQET5",
        "outputId": "dbdfcf50-a543-47b9-aca9-a39960734920"
      },
      "source": [
        "import numpy as np\n",
        "a = np.array([[1,2],[2,3],[4,3]])\n",
        "b= np.array([[2,3],[4,3],[1,2]])\n",
        "res = (a[:, None] == b).all(-1).any(-1).all(-1)\n",
        "print(res)\n",
        "# for i in range(a.shape[0]):\n",
        "#     print(a[i])"
      ],
      "execution_count": 2,
      "outputs": [
        {
          "output_type": "stream",
          "name": "stdout",
          "text": [
            "True\n"
          ]
        }
      ]
    },
    {
      "cell_type": "markdown",
      "metadata": {
        "id": "8Ub77LCmSuig"
      },
      "source": [
        "# Can I make a list from a list and a new member for a new list? No, just append it\n",
        "\n",
        "\n"
      ]
    },
    {
      "cell_type": "code",
      "metadata": {
        "colab": {
          "base_uri": "https://localhost:8080/"
        },
        "id": "6LO53C54S9N_",
        "outputId": "626a435b-27d7-45fc-98ac-4b153f104a81"
      },
      "source": [
        "a =[1,2,3]\n",
        "b = 1\n",
        "c =[a,b]\n",
        "print(c)\n",
        "print(type(c))\n",
        "a.append(b)\n",
        "print(a)"
      ],
      "execution_count": 4,
      "outputs": [
        {
          "output_type": "stream",
          "name": "stdout",
          "text": [
            "[[1, 2, 3], 1]\n",
            "<class 'list'>\n",
            "[1, 2, 3, 1]\n"
          ]
        }
      ]
    },
    {
      "cell_type": "markdown",
      "metadata": {
        "id": "8rec4kY4Ta0G"
      },
      "source": [
        "# Can I use tuple as dict key? Yes, every immutable data types can be used as key, as the mutable ones can't be hashed"
      ]
    },
    {
      "cell_type": "code",
      "metadata": {
        "colab": {
          "base_uri": "https://localhost:8080/"
        },
        "id": "_V-BkjRaTXRH",
        "outputId": "61e7b15a-2039-4f71-8c49-7caf8554efd8"
      },
      "source": [
        "di = {\n",
        "    (1,2) : 123,\n",
        "    (3,4) : 124\n",
        "}\n",
        "\n",
        "print(di[(1,2)])"
      ],
      "execution_count": 5,
      "outputs": [
        {
          "output_type": "stream",
          "name": "stdout",
          "text": [
            "123\n"
          ]
        }
      ]
    },
    {
      "cell_type": "markdown",
      "metadata": {
        "id": "1f86B0jITyjf"
      },
      "source": [
        "# Does python function pass list parameter by value or reference? Reference of course"
      ]
    },
    {
      "cell_type": "code",
      "metadata": {
        "colab": {
          "base_uri": "https://localhost:8080/"
        },
        "id": "BACWrGbsTo9P",
        "outputId": "f304bd15-0910-4440-87e6-763affc3c5e1"
      },
      "source": [
        "def update(move:list, new):\n",
        "    move.append(new)\n",
        "    return move\n",
        "\n",
        "move =[1,2,3,4]\n",
        "print(update(move,5))\n",
        "print(move)"
      ],
      "execution_count": 6,
      "outputs": [
        {
          "output_type": "stream",
          "name": "stdout",
          "text": [
            "[1, 2, 3, 4, 5]\n",
            "[1, 2, 3, 4, 5]\n"
          ]
        }
      ]
    },
    {
      "cell_type": "markdown",
      "metadata": {
        "id": "DhQzE4iBUN3G"
      },
      "source": [
        "# Can I compare 2 2D numpy array row by row (Ordered)? Yes, they return a projected bool array so we have to get result value by all() and any ()"
      ]
    },
    {
      "cell_type": "code",
      "metadata": {
        "colab": {
          "base_uri": "https://localhost:8080/"
        },
        "id": "zXmS-kQsUMEg",
        "outputId": "4758fdba-fb41-4ab5-f5b8-6034fa482c15"
      },
      "source": [
        "import numpy as np\n",
        "a = np.array([[1,2],[3,4]])\n",
        "b = np.array([1,2])\n",
        "print(a==b)\n",
        "print((a==b).all())\n",
        "print((a==b).all(-1))\n",
        "print((a==b).all(-1).any())"
      ],
      "execution_count": 11,
      "outputs": [
        {
          "output_type": "stream",
          "name": "stdout",
          "text": [
            "[[ True  True]\n",
            " [False False]]\n",
            "False\n",
            "[ True False]\n",
            "True\n"
          ]
        }
      ]
    },
    {
      "cell_type": "markdown",
      "metadata": {
        "id": "3ZaNFVUHVKov"
      },
      "source": [
        "# Only the first member in each tuple of queue.PriorityQueue matter? Yes, it is used for sorting"
      ]
    },
    {
      "cell_type": "code",
      "metadata": {
        "colab": {
          "base_uri": "https://localhost:8080/"
        },
        "id": "DGwfPOGTVLCi",
        "outputId": "42cfb680-65d6-40a6-8481-ae1cf07d6bbd"
      },
      "source": [
        "from queue import PriorityQueue\n",
        "\n",
        "a = PriorityQueue()\n",
        "\n",
        "a.put((2.5, 'assdasdsa', 6))\n",
        "a.put((3.4, 'fsgsdfsdf', 1))\n",
        "a.put((1.0, 'FASFDSFSF', 5))\n",
        "a.put((2.3, 'adfasdfs', 2))\n",
        "a.put((5.2, 'sfsdgs', 7))\n",
        "a.put((4.4, 'sdfsadfg', 9))\n",
        "\n",
        "b = PriorityQueue()\n",
        "\n",
        "b.put((2.5, 'a2.5'))\n",
        "b.put((3.4, 'a3.4'))\n",
        "b.put((1.0, 'a1.0'))\n",
        "b.put((2.3, 'a2.3'))\n",
        "b.put((5.2, 'a5.2'))\n",
        "b.put((4.4, 'a4.4'))\n",
        "\n",
        "while (a.qsize()>0):\n",
        "    print(a.get()[0])\n",
        "    print(b.get()[0])"
      ],
      "execution_count": 12,
      "outputs": [
        {
          "output_type": "stream",
          "name": "stdout",
          "text": [
            "1.0\n",
            "1.0\n",
            "2.3\n",
            "2.3\n",
            "2.5\n",
            "2.5\n",
            "3.4\n",
            "3.4\n",
            "4.4\n",
            "4.4\n",
            "5.2\n",
            "5.2\n"
          ]
        }
      ]
    },
    {
      "cell_type": "markdown",
      "metadata": {
        "id": "augocYtJV0pP"
      },
      "source": [
        "# Is total Manhattan distance between 2 sets of point the same even if we shuffle the points? Yes, this is not python-ralated though"
      ]
    },
    {
      "cell_type": "code",
      "metadata": {
        "id": "QdXryuKEV1CP"
      },
      "source": [
        "import numpy as np\n",
        "\n",
        "a = np.array([[1,2],[3,4],[5,6]])\n",
        "b = np.array([[6,2],[1,3],[2,4]])\n",
        "\n",
        "def manhattan(a,b):\n",
        "    print(np.sum(abs(a-b)))\n",
        "manhattan(a,b)"
      ],
      "execution_count": null,
      "outputs": []
    },
    {
      "cell_type": "markdown",
      "metadata": {
        "id": "dmSVxrTHWTwi"
      },
      "source": [
        "# Can I join 2 numpy arrays to 1 tuple by + operator? No, this result in a tuple of 2 numpy arrays"
      ]
    },
    {
      "cell_type": "code",
      "metadata": {
        "colab": {
          "base_uri": "https://localhost:8080/"
        },
        "id": "DbUV335VWUIH",
        "outputId": "9c2d6002-ab9b-40e8-8846-c4efdc03fa5e"
      },
      "source": [
        "import numpy as np\n",
        "\n",
        "a = np.array([1,2,3,4])\n",
        "b = np.array([3,5,9,2])\n",
        "\n",
        "s = tuple()\n",
        "s = s + (a,)  \n",
        "s = s + (b,)\n",
        "print(s)\n",
        "print(type(s))\n",
        "print(type(s[0]))"
      ],
      "execution_count": 13,
      "outputs": [
        {
          "output_type": "stream",
          "name": "stdout",
          "text": [
            "(array([1, 2, 3, 4]), array([3, 5, 9, 2]))\n",
            "<class 'tuple'>\n",
            "<class 'numpy.ndarray'>\n"
          ]
        }
      ]
    },
    {
      "cell_type": "markdown",
      "metadata": {
        "id": "11V1UekqW503"
      },
      "source": [
        "# Can I add and pop numpy array to collections.deque? Yes, why not?"
      ]
    },
    {
      "cell_type": "code",
      "metadata": {
        "colab": {
          "base_uri": "https://localhost:8080/"
        },
        "id": "BQz5jid4W6Mv",
        "outputId": "4a18e510-3d37-4952-8bc7-587c3d0ad66a"
      },
      "source": [
        "from collections import deque\n",
        "import numpy as np\n",
        "queue = deque()\n",
        "queue.append(np.array([1,2,3,4]))\n",
        "a = queue.popleft()\n",
        "print(a)\n",
        "print(queue)\n",
        "print(type(a))\n",
        "print(type(queue))"
      ],
      "execution_count": 14,
      "outputs": [
        {
          "output_type": "stream",
          "name": "stdout",
          "text": [
            "[1 2 3 4]\n",
            "deque([])\n",
            "<class 'numpy.ndarray'>\n",
            "<class 'collections.deque'>\n"
          ]
        }
      ]
    },
    {
      "cell_type": "markdown",
      "metadata": {
        "id": "jmlZNdj-XYcg"
      },
      "source": [
        "# Can I add a tuple to a numpy array of same size with "
      ]
    },
    {
      "cell_type": "code",
      "metadata": {
        "colab": {
          "base_uri": "https://localhost:8080/"
        },
        "id": "PxPpGUOHXYxX",
        "outputId": "29085733-0b22-447a-831b-db84b550d273"
      },
      "source": [
        "import numpy as np\n",
        "\n",
        "a = np.array([1,2])\n",
        "b = (2,1)\n",
        "c = a+b\n",
        "a[0]  = 4\n",
        "print(c)\n",
        "print(type(c))\n",
        "print(a)"
      ],
      "execution_count": 15,
      "outputs": [
        {
          "output_type": "stream",
          "name": "stdout",
          "text": [
            "[3 3]\n",
            "<class 'numpy.ndarray'>\n",
            "[4 2]\n"
          ]
        }
      ]
    },
    {
      "cell_type": "markdown",
      "metadata": {
        "id": "NmjsKy0mZVJA"
      },
      "source": [
        ""
      ]
    },
    {
      "cell_type": "code",
      "metadata": {
        "colab": {
          "base_uri": "https://localhost:8080/"
        },
        "id": "wLfheXCRZVb_",
        "outputId": "766a93c7-dc37-4cba-d886-a0941521dca1"
      },
      "source": [
        "import numpy as np\n",
        "\n",
        "a = np.array([[1,2,3,4],[5,3,6,7],[6,3,3,7]])\n",
        "b = np.array([1,2])\n",
        "print(a[b])\n",
        "print(a[b[0],b[1]])"
      ],
      "execution_count": 16,
      "outputs": [
        {
          "output_type": "stream",
          "name": "stdout",
          "text": [
            "6\n"
          ]
        }
      ]
    }
  ]
}